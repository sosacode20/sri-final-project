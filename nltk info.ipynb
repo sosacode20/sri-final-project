{
 "cells": [
  {
   "cell_type": "markdown",
   "metadata": {},
   "source": [
    "# Lo interesante de NLTK para el proyecto\n",
    "\n",
    "En este notebook se mostraran solamente las funcionalidades de `nltk` que se consideren apropiadas para el proyecto y se dispondrá de una breve descripción sobre cada funcionalidad seleccionada\n"
   ]
  },
  {
   "cell_type": "code",
   "execution_count": 3,
   "metadata": {},
   "outputs": [
    {
     "name": "stdout",
     "output_type": "stream",
     "text": [
      "['Hola', 'tal', 'amigos', 'cubanos.', 'Este', 'lindo', 'dia', 'asfixiarse', 'SRI.']\n",
      "['<', 'title', '>', 'Alicia', 'en', 'el', 'País', 'de', 'las', 'Maravillas', '<', '/title', '>', '<', 'Body', '>', 'Este', 'es', 'el', 'cuerpo', 'del', 'documento', '.', 'Para', 'rellenarlo', 'mas', 'podemos', 'decir', 'que', 'Alicia', 'en', 'el', 'País', 'de', 'las', 'Maravillas', 'es', 'un', 'libro', 'de', 'Lewis', 'Carroll', 'y', 'trata', 'de', 'una', 'niña', 'que', 'se', 'mete', 'en', 'un', 'mundo', 'de', 'fantasía', '.', '<', '/Body', '>']\n"
     ]
    }
   ],
   "source": [
    "from nltk import word_tokenize as tokenize\n",
    "from nltk.corpus import stopwords\n",
    "\n",
    "text = \"Hola que tal mis amigos cubanos. Este es un lindo dia para asfixiarse con SRI.\"\n",
    "code = \"\"\"\n",
    "<title>\n",
    "Alicia en el País de las Maravillas\n",
    "</title>\n",
    "<Body>\n",
    "Este es el cuerpo del documento.\n",
    "Para rellenarlo mas podemos decir que Alicia en el País de las Maravillas es un libro de Lewis Carroll y trata de una niña que se mete en un mundo de fantasía.\n",
    "</Body>\n",
    "\"\"\"\n",
    "res = tokenize(code, \"spanish\")\n",
    "stop_list = stopwords.words('spanish')\n",
    "clean_word_list = [word for word in text.split() if word not in stop_list]\n",
    "print(clean_word_list)\n",
    "print(res)"
   ]
  },
  {
   "cell_type": "markdown",
   "metadata": {},
   "source": [
    "## Spell Correction"
   ]
  },
  {
   "cell_type": "code",
   "execution_count": 1,
   "metadata": {},
   "outputs": [
    {
     "name": "stdout",
     "output_type": "stream",
     "text": [
      "The edit distance between \"hola\" and \"olas\" is 2\n"
     ]
    }
   ],
   "source": [
    "from nltk.metrics import edit_distance\n",
    "\n",
    "value = edit_distance(\"hola\", \"olas\")\n",
    "print(f'The edit distance between \"hola\" and \"olas\" is {value}')"
   ]
  }
 ],
 "metadata": {
  "kernelspec": {
   "display_name": "Python 3.10.8 ('py_env': venv)",
   "language": "python",
   "name": "python3"
  },
  "language_info": {
   "codemirror_mode": {
    "name": "ipython",
    "version": 3
   },
   "file_extension": ".py",
   "mimetype": "text/x-python",
   "name": "python",
   "nbconvert_exporter": "python",
   "pygments_lexer": "ipython3",
   "version": "3.10.8"
  },
  "orig_nbformat": 4,
  "vscode": {
   "interpreter": {
    "hash": "3b0c161f0e457102655bf3cec2cb632803932d7b09c187735b779ba6560eb726"
   }
  }
 },
 "nbformat": 4,
 "nbformat_minor": 2
}
