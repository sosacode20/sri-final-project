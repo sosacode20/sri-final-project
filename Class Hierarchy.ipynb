{
 "cells": [
  {
   "cell_type": "markdown",
   "metadata": {},
   "source": [
    "# Jerarquía de Clases\n",
    "\n",
    "Este notebook describe la arquitectura que seguirá el Proyecto mediante una imagen y luego presenta la jerarquía de clases que permitirá lograr esa arquitectura"
   ]
  },
  {
   "cell_type": "markdown",
   "metadata": {},
   "source": [
    "## Arquitectura del Proyecto\n",
    "\n",
    "La arquitectura del proyecto se basa en la siguiente imagen:\n",
    "\n",
    "![Arquitectura](Project-architecture.excalidraw.svg)"
   ]
  },
  {
   "cell_type": "markdown",
   "metadata": {},
   "source": [
    "## Declarando las clases\n",
    "\n"
   ]
  },
  {
   "cell_type": "markdown",
   "metadata": {},
   "source": [
    "### Relacionadas con el proceso de Ingestion\n",
    "\n"
   ]
  },
  {
   "cell_type": "markdown",
   "metadata": {},
   "source": [
    "## Creating a DOM object"
   ]
  },
  {
   "cell_type": "code",
   "execution_count": 9,
   "metadata": {},
   "outputs": [],
   "source": [
    "import xml.dom.minidom as minidom\n",
    "\n",
    "def create_sections(sections, parent):\n",
    "    for section in sections:\n",
    "        section_node = doc.createElement(\"section\")\n",
    "        section_node.setAttribute(\"name\", section)\n",
    "        section_node.appendChild(doc.createTextNode(f'This is the text of the section {section}'))\n",
    "        parent.appendChild(section_node)\n",
    "\n",
    "# Create the minidom document\n",
    "doc = minidom.Document()\n",
    "# add language\n",
    "language = doc.createElement(\"language\")\n",
    "doc_element = doc.createElement(\"document\")\n",
    "# Add a new tag\n",
    "title_tag = doc.createElement(\"title\")\n",
    "# add some content to the tag\n",
    "title_tag.appendChild(doc.createTextNode(\"This is a title\"))\n",
    "\n",
    "# add some body content to the doc\n",
    "body_tag = doc.createElement(\"body\")\n",
    "# body_tag.appendChild(doc.createTextNode(\"This is the body\"))\n",
    "# add some heading to the content\n",
    "abstract_tag = doc.createElement(\"abstract\")\n",
    "abstract_tag.appendChild(doc.createTextNode(\"This is the abstract\"))\n",
    "body_tag.appendChild(abstract_tag)\n",
    "# add body tag to the doc\n",
    "doc_element.appendChild(title_tag)\n",
    "doc_element.appendChild(body_tag)\n",
    "doc.appendChild(doc_element)\n",
    "\n",
    "create_sections([\"Introduction\", \"Methodology\", \"Results\", \"Discussion\"], body_tag)\n",
    "\n",
    "# save the doc\n",
    "with open(\"test.xml\", \"w\") as f:\n",
    "    f.write(doc.toprettyxml(indent=\"  \"))\n",
    "    # close the file\n"
   ]
  },
  {
   "cell_type": "markdown",
   "metadata": {},
   "source": [
    "## Reading a DOM Object"
   ]
  },
  {
   "cell_type": "code",
   "execution_count": 10,
   "metadata": {},
   "outputs": [
    {
     "name": "stdout",
     "output_type": "stream",
     "text": [
      "This is a title\n",
      "This is the abstract\n",
      "\n",
      "Ahora se imprimen las secciones:\n",
      "\n",
      "Introduction\n",
      "This is the text of the section Introduction\n",
      "Methodology\n",
      "This is the text of the section Methodology\n",
      "Results\n",
      "This is the text of the section Results\n",
      "Discussion\n",
      "This is the text of the section Discussion\n"
     ]
    }
   ],
   "source": [
    "# Open the DOM file\n",
    "dom = minidom.parse(\"test.xml\")\n",
    "# Get the document title\n",
    "title = dom.getElementsByTagName(\"title\")[0].firstChild.data\n",
    "print(title)\n",
    "# Get the document abstract\n",
    "abstract = dom.getElementsByTagName(\"abstract\")[0].firstChild.data\n",
    "print(abstract)\n",
    "\n",
    "sections = dom.getElementsByTagName(\"section\")\n",
    "print('\\nAhora se imprimen las secciones:\\n')\n",
    "for section in sections:\n",
    "    print(section.getAttribute(\"name\"))\n",
    "    print(section.firstChild.data)"
   ]
  },
  {
   "cell_type": "markdown",
   "metadata": {},
   "source": [
    "## Working with CSV Files in Python\n",
    "\n",
    "### How to write a CSV file in Python\n",
    "\n",
    "Aqui esta un ejemplo de codigo en python sobre como escribir una tabla creada por nosotros en un csv"
   ]
  },
  {
   "cell_type": "code",
   "execution_count": 11,
   "metadata": {},
   "outputs": [],
   "source": [
    "\n",
    "# Create a csv file from a list of rows\n",
    "import csv\n",
    "\n",
    "rows = [[i*j for j in range(20)] for i in range(10)]\n",
    "\n",
    "# save rows as a csv file\n",
    "with open(\"test.csv\", \"w\") as f:\n",
    "    writer = csv.writer(f)\n",
    "    writer.writerow([f'column {i}' for i in range(20)])\n",
    "    writer.writerows(rows)\n",
    "\n",
    "with open('employee_file2.csv', mode='w') as csv_file:\n",
    "    fieldnames = ['emp_name', 'dept', 'birth_month']\n",
    "    writer = csv.DictWriter(csv_file, fieldnames=fieldnames)\n",
    "\n",
    "    writer.writeheader()\n",
    "    writer.writerow({'emp_name': 'John Smith', 'dept': 'Accounting', 'birth_month': 'November'})\n",
    "    writer.writerow({'emp_name': 'Erica Meyers', 'dept': 'IT', 'birth_month': 'March'})\n"
   ]
  },
  {
   "cell_type": "markdown",
   "metadata": {},
   "source": [
    "### Reading the csv file\n"
   ]
  },
  {
   "cell_type": "code",
   "execution_count": 12,
   "metadata": {},
   "outputs": [
    {
     "name": "stdout",
     "output_type": "stream",
     "text": [
      "['column 0', 'column 1', 'column 2', 'column 3', 'column 4', 'column 5', 'column 6', 'column 7', 'column 8', 'column 9', 'column 10', 'column 11', 'column 12', 'column 13', 'column 14', 'column 15', 'column 16', 'column 17', 'column 18', 'column 19']\n",
      "['0', '0', '0', '0', '0', '0', '0', '0', '0', '0', '0', '0', '0', '0', '0', '0', '0', '0', '0', '0']\n",
      "['0', '1', '2', '3', '4', '5', '6', '7', '8', '9', '10', '11', '12', '13', '14', '15', '16', '17', '18', '19']\n",
      "['0', '2', '4', '6', '8', '10', '12', '14', '16', '18', '20', '22', '24', '26', '28', '30', '32', '34', '36', '38']\n",
      "['0', '3', '6', '9', '12', '15', '18', '21', '24', '27', '30', '33', '36', '39', '42', '45', '48', '51', '54', '57']\n",
      "['0', '4', '8', '12', '16', '20', '24', '28', '32', '36', '40', '44', '48', '52', '56', '60', '64', '68', '72', '76']\n",
      "['0', '5', '10', '15', '20', '25', '30', '35', '40', '45', '50', '55', '60', '65', '70', '75', '80', '85', '90', '95']\n",
      "['0', '6', '12', '18', '24', '30', '36', '42', '48', '54', '60', '66', '72', '78', '84', '90', '96', '102', '108', '114']\n",
      "['0', '7', '14', '21', '28', '35', '42', '49', '56', '63', '70', '77', '84', '91', '98', '105', '112', '119', '126', '133']\n",
      "['0', '8', '16', '24', '32', '40', '48', '56', '64', '72', '80', '88', '96', '104', '112', '120', '128', '136', '144', '152']\n",
      "['0', '9', '18', '27', '36', '45', '54', '63', '72', '81', '90', '99', '108', '117', '126', '135', '144', '153', '162', '171']\n",
      "John Smith Accounting November\n",
      "Erica Meyers IT March\n"
     ]
    }
   ],
   "source": [
    "# reading test.csv\n",
    "with open(\"test.csv\", \"r\") as f:\n",
    "    reader = csv.reader(f)\n",
    "    for row in reader:\n",
    "        print(row)\n",
    "\n",
    "# reading employee_file2.csv\n",
    "with open('employee_file2.csv', mode='r') as csv_file:\n",
    "    reader = csv.DictReader(csv_file)\n",
    "    for row in reader:\n",
    "        print(row['emp_name'], row['dept'], row['birth_month'])\n",
    "\n"
   ]
  }
 ],
 "metadata": {
  "kernelspec": {
   "display_name": "Python 3.10.8 ('py_env': venv)",
   "language": "python",
   "name": "python3"
  },
  "language_info": {
   "codemirror_mode": {
    "name": "ipython",
    "version": 3
   },
   "file_extension": ".py",
   "mimetype": "text/x-python",
   "name": "python",
   "nbconvert_exporter": "python",
   "pygments_lexer": "ipython3",
   "version": "3.10.8"
  },
  "orig_nbformat": 4,
  "vscode": {
   "interpreter": {
    "hash": "3b0c161f0e457102655bf3cec2cb632803932d7b09c187735b779ba6560eb726"
   }
  }
 },
 "nbformat": 4,
 "nbformat_minor": 2
}
