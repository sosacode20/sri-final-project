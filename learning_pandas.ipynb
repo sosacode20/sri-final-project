{
 "cells": [
  {
   "cell_type": "code",
   "execution_count": 1,
   "metadata": {},
   "outputs": [
    {
     "name": "stdout",
     "output_type": "stream",
     "text": [
      "  Unnamed: 0  A  B  C\n",
      "0       alex  1  4  7\n",
      "1      maria  2  5  8\n",
      "2        ana  3  6  9\n"
     ]
    }
   ],
   "source": [
    "import pandas as p\n",
    "# save to csv\n",
    "\n",
    "# create a table with 3 columns and 3 rows\n",
    "df = p.DataFrame({'A': [1, 2, 3], 'B': [4, 5, 6], 'C': [7, 8, 9]}, index=['alex', 'maria', 'ana'])\n",
    "df.to_csv('data.csv')\n",
    "loaded = p.read_csv('data.csv')\n",
    "print(loaded)\n"
   ]
  }
 ],
 "metadata": {
  "kernelspec": {
   "display_name": "Python 3.11.0 ('.venv': venv)",
   "language": "python",
   "name": "python3"
  },
  "language_info": {
   "codemirror_mode": {
    "name": "ipython",
    "version": 3
   },
   "file_extension": ".py",
   "mimetype": "text/x-python",
   "name": "python",
   "nbconvert_exporter": "python",
   "pygments_lexer": "ipython3",
   "version": "3.11.0"
  },
  "orig_nbformat": 4,
  "vscode": {
   "interpreter": {
    "hash": "d5936e16bf032bb3c480b8105a3048830b21629285112fe0f0c0cb43a9c24959"
   }
  }
 },
 "nbformat": 4,
 "nbformat_minor": 2
}
